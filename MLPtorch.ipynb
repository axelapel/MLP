{
 "metadata": {
  "language_info": {
   "codemirror_mode": {
    "name": "ipython",
    "version": 3
   },
   "file_extension": ".py",
   "mimetype": "text/x-python",
   "name": "python",
   "nbconvert_exporter": "python",
   "pygments_lexer": "ipython3",
   "version": "3.6.9-final"
  },
  "orig_nbformat": 2,
  "kernelspec": {
   "name": "python_defaultSpec_1600119460395",
   "display_name": "Python 3.6.9 64-bit"
  }
 },
 "nbformat": 4,
 "nbformat_minor": 2,
 "cells": [
  {
   "cell_type": "markdown",
   "metadata": {},
   "source": [
    "## One hidden layer neural network using Pytorch"
   ]
  },
  {
   "cell_type": "code",
   "execution_count": 11,
   "metadata": {},
   "outputs": [],
   "source": [
    "import numpy as np\n",
    "import torch"
   ]
  },
  {
   "cell_type": "code",
   "execution_count": 12,
   "metadata": {},
   "outputs": [],
   "source": [
    "# Hyper parameters\n",
    "batch_sz = 1\n",
    "dim_in = 4\n",
    "dim_out = 3\n",
    "dim_hidden = 10\n",
    "\n",
    "# Inputs and outputs\n",
    "x = torch.randn(batch_sz, dim_in)\n",
    "y = torch.randn(batch_sz, dim_out)"
   ]
  },
  {
   "cell_type": "code",
   "execution_count": 13,
   "metadata": {},
   "outputs": [],
   "source": [
    "# Perceptron model (1 layer)\n",
    "model = torch.nn.Sequential(\n",
    "    torch.nn.Linear(dim_in, dim_hidden),\n",
    "    torch.nn.ReLU(),\n",
    "    torch.nn.Linear(dim_hidden, dim_out),\n",
    "    torch.nn.Sigmoid(),\n",
    ")\n",
    "\n",
    "# Note : I added the sigmoid to normalize compared to the example\n",
    "# ---> Why were they only one activation function in the initial model\n",
    "\n",
    "# Loss function\n",
    "loss_fn = torch.nn.MSELoss(reduction=\"sum\")"
   ]
  },
  {
   "cell_type": "code",
   "execution_count": 14,
   "metadata": {
    "tags": []
   },
   "outputs": [
    {
     "output_type": "stream",
     "name": "stdout",
     "text": "99 2.3000259399414062\n199 2.054388999938965\n299 1.8327157497406006\n399 1.6433254480361938\n499 1.4914376735687256\n"
    }
   ],
   "source": [
    "# Training\n",
    "learning_rate = 1e-3\n",
    "\n",
    "for t in range(500):\n",
    "    y_hat = model(x) # Feedforward : estimation of the output with the model\n",
    "    loss = loss_fn(y_hat, y) # Loss function (mean squared error)\n",
    "    if t % 100 == 99: # To keep trace of the loss function through the loop\n",
    "        print(t, loss.item())\n",
    "    \n",
    "    model.zero_grad() # Set gradients to null tensor\n",
    "    loss.backward() # Backward propagation\n",
    "\n",
    "    with torch.no_grad(): # Disables the gradient calculation\n",
    "        for param in model.parameters():\n",
    "            param -= learning_rate * param.grad # Update of the weights"
   ]
  },
  {
   "cell_type": "code",
   "execution_count": 15,
   "metadata": {},
   "outputs": [
    {
     "output_type": "execute_result",
     "data": {
      "text/plain": "tensor([[0.4890, 0.4531, 0.2116]], grad_fn=<SigmoidBackward>)"
     },
     "metadata": {},
     "execution_count": 15
    }
   ],
   "source": [
    "model(x)"
   ]
  }
 ]
}