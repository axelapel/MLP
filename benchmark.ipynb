{
 "metadata": {
  "language_info": {
   "codemirror_mode": {
    "name": "ipython",
    "version": 3
   },
   "file_extension": ".py",
   "mimetype": "text/x-python",
   "name": "python",
   "nbconvert_exporter": "python",
   "pygments_lexer": "ipython3",
   "version": "3.6.9-final"
  },
  "orig_nbformat": 2,
  "kernelspec": {
   "name": "python_defaultSpec_1600700800865",
   "display_name": "Python 3.6.9 64-bit"
  }
 },
 "nbformat": 4,
 "nbformat_minor": 2,
 "cells": [
  {
   "cell_type": "markdown",
   "metadata": {},
   "source": [
    "## Comparing MLP with a Pytorch fully connected network"
   ]
  },
  {
   "source": [
    "### Models"
   ],
   "cell_type": "markdown",
   "metadata": {}
  },
  {
   "cell_type": "code",
   "execution_count": 1,
   "metadata": {},
   "outputs": [],
   "source": [
    "import numpy as np\n",
    "import torch\n",
    "from MLP import MLP\n",
    "\n",
    "# Hyper parameters\n",
    "batch_sz = 1\n",
    "dim_in = 4\n",
    "dim_out = 2\n",
    "dim_hidden = 10\n",
    "N_layers = 2\n",
    "learning_rate = 1e-3\n",
    "\n",
    "# Network with Pytorch (3 layers)\n",
    "torchnet = torch.nn.Sequential(\n",
    "    torch.nn.Linear(dim_in, dim_hidden),\n",
    "    torch.nn.Sigmoid(),\n",
    "    torch.nn.Linear(dim_hidden, dim_out),\n",
    "    torch.nn.Sigmoid())\n",
    "\n",
    "# Network with MLP.py\n",
    "MLP = MLP(N_layers, dim_hidden, dim_in, dim_out)"
   ]
  },
  {
   "source": [
    "### Training"
   ],
   "cell_type": "markdown",
   "metadata": {}
  },
  {
   "cell_type": "code",
   "execution_count": 2,
   "metadata": {
    "tags": []
   },
   "outputs": [],
   "source": [
    "# Input / Output\n",
    "x = torch.rand(batch_sz, dim_in)\n",
    "y = torch.rand(batch_sz, dim_out)\n",
    "\n",
    "# MSE loss function\n",
    "loss_fn = torch.nn.MSELoss()\n",
    "\n",
    "# Training torchnet\n",
    "epochs = 1000\n",
    "for epoch in range(epochs):\n",
    "    y_hat = torchnet(x)      # Feedforward : estimation of the output with the model\n",
    "    loss = loss_fn(y_hat, y)\n",
    "    \n",
    "    torchnet.zero_grad() # Set gradients to null tensor\n",
    "    loss.backward()   # Backward propagation\n",
    "\n",
    "    with torch.no_grad(): # Disables the gradient calculation\n",
    "        for param in torchnet.parameters():\n",
    "            param -= learning_rate * param.grad # Gradient descent"
   ]
  },
  {
   "source": [
    "### Test"
   ],
   "cell_type": "markdown",
   "metadata": {}
  },
  {
   "cell_type": "code",
   "execution_count": 3,
   "metadata": {
    "tags": []
   },
   "outputs": [
    {
     "output_type": "stream",
     "name": "stdout",
     "text": "C0 : 0.5624\nC1 : 0.6877\n\n\n"
    }
   ],
   "source": [
    "# Test sample\n",
    "x_test = torch.rand(batch_sz, dim_in)\n",
    "\n",
    "# Estimation\n",
    "y_hat = torchnet.forward(x_test)\n",
    "print(\"C0 : {:.4f}\\nC1 : {:.4f}\\n\\n\".format(y_hat[0][0], y_hat[0][1]))"
   ]
  }
 ]
}